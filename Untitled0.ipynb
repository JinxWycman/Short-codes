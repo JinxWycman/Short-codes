{
  "nbformat": 4,
  "nbformat_minor": 0,
  "metadata": {
    "colab": {
      "provenance": [],
      "authorship_tag": "ABX9TyMMgXJy8DYng4QnvXODqsPz",
      "include_colab_link": true
    },
    "kernelspec": {
      "name": "python3",
      "display_name": "Python 3"
    },
    "language_info": {
      "name": "python"
    }
  },
  "cells": [
    {
      "cell_type": "markdown",
      "metadata": {
        "id": "view-in-github",
        "colab_type": "text"
      },
      "source": [
        "<a href=\"https://colab.research.google.com/github/JinxWycman/Short-codes/blob/main/Untitled0.ipynb\" target=\"_parent\"><img src=\"https://colab.research.google.com/assets/colab-badge.svg\" alt=\"Open In Colab\"/></a>"
      ]
    },
    {
      "cell_type": "markdown",
      "source": [],
      "metadata": {
        "id": "NyfO-FIQRRC1"
      }
    },
    {
      "cell_type": "code",
      "source": [
        "individual_in_wild = 5500\n",
        "\n",
        "if individual_in_wild < 1000:\n",
        "  print(\"critically endangered\")\n",
        "elif individual_in_wild <= 5000:\n",
        "  print(\"endangered\")\n",
        "elif individual_in_wild <= 20000:\n",
        "  print(\"vulnerable\")\n",
        "else :\n",
        "  print(\"safe\")"
      ],
      "metadata": {
        "id": "E-ViYF4Q9--0",
        "colab": {
          "base_uri": "https://localhost:8080/"
        },
        "outputId": "3d252db4-6de0-4aa6-f4e5-f8007335dc11"
      },
      "execution_count": 15,
      "outputs": [
        {
          "output_type": "stream",
          "name": "stdout",
          "text": [
            "vulnerable\n"
          ]
        }
      ]
    }
  ]
}