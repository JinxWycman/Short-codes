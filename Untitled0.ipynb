{
  "nbformat": 4,
  "nbformat_minor": 0,
  "metadata": {
    "colab": {
      "provenance": [],
      "authorship_tag": "ABX9TyO/jV2lW9UZjPeCwc5K1M9n",
      "include_colab_link": true
    },
    "kernelspec": {
      "name": "python3",
      "display_name": "Python 3"
    },
    "language_info": {
      "name": "python"
    }
  },
  "cells": [
    {
      "cell_type": "markdown",
      "metadata": {
        "id": "view-in-github",
        "colab_type": "text"
      },
      "source": [
        "<a href=\"https://colab.research.google.com/github/JinxWycman/Short-codes/blob/main/Untitled0.ipynb\" target=\"_parent\"><img src=\"https://colab.research.google.com/assets/colab-badge.svg\" alt=\"Open In Colab\"/></a>"
      ]
    },
    {
      "cell_type": "code",
      "source": [
        "# Using the previously defined Tree class\n",
        "\n",
        "# Creating another tree object\n",
        "pine = Tree(\"Pine\", 15, 50)\n",
        "print(pine.describe())\n",
        "\n",
        "# Attempting to access attributes directly\n",
        "print(f\"Species of the tree: {pine.species}\")\n",
        "print(f\"Height of the tree: {pine.height}\")"
      ],
      "metadata": {
        "id": "sQCNmBaMTANv",
        "outputId": "5636b9db-f580-4ade-f488-87d074cf2ee4",
        "colab": {
          "base_uri": "https://localhost:8080/"
        }
      },
      "execution_count": 30,
      "outputs": [
        {
          "output_type": "stream",
          "name": "stdout",
          "text": [
            "This is a Pine that is 15 meters tall and 50 years old.\n",
            "A 50-year-old Pine tree, about 15 meters tall.\n",
            "Species of the tree: Pine\n",
            "Height of the tree: 15\n"
          ]
        }
      ]
    }
  ]
}