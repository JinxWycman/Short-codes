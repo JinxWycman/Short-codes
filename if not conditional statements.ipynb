{
  "nbformat": 4,
  "nbformat_minor": 0,
  "metadata": {
    "colab": {
      "provenance": [],
      "authorship_tag": "ABX9TyNIEB5Dl0H3oV9hW/L5Vneo",
      "include_colab_link": true
    },
    "kernelspec": {
      "name": "python3",
      "display_name": "Python 3"
    },
    "language_info": {
      "name": "python"
    }
  },
  "cells": [
    {
      "cell_type": "markdown",
      "metadata": {
        "id": "view-in-github",
        "colab_type": "text"
      },
      "source": [
        "<a href=\"https://colab.research.google.com/github/JinxWycman/Short-codes/blob/main/if%20not%20conditional%20statements.ipynb\" target=\"_parent\"><img src=\"https://colab.research.google.com/assets/colab-badge.svg\" alt=\"Open In Colab\"/></a>"
      ]
    },
    {
      "cell_type": "code",
      "source": [
        "household_uses_solar=  False\n",
        "if household_uses_solar == True:\n",
        "  print(\"Eco-friendly\")\n",
        "if not household_uses_solar:\n",
        "  print(\"Needs Improvement\")"
      ],
      "metadata": {
        "colab": {
          "base_uri": "https://localhost:8080/"
        },
        "id": "77-SAfWGZXvJ",
        "outputId": "8591fb61-0a82-45e3-89be-9a7eb79dfc19"
      },
      "execution_count": 40,
      "outputs": [
        {
          "output_type": "stream",
          "name": "stdout",
          "text": [
            "Needs Improvement\n"
          ]
        }
      ]
    },
    {
      "cell_type": "code",
      "source": [
        "solar= True\n",
        "if not solar:\n",
        "  print(\"needs improvement\")\n",
        "else:\n",
        "    print(\"Eco-friendly\")"
      ],
      "metadata": {
        "colab": {
          "base_uri": "https://localhost:8080/"
        },
        "id": "yIy1nVj0a1j5",
        "outputId": "522d7069-fe2f-4a7f-f6e4-ba41188aaa3f"
      },
      "execution_count": 45,
      "outputs": [
        {
          "output_type": "stream",
          "name": "stdout",
          "text": [
            "Eco-friendly\n"
          ]
        }
      ]
    },
    {
      "cell_type": "markdown",
      "source": [],
      "metadata": {
        "id": "NyfO-FIQRRC1"
      }
    }
  ]
}