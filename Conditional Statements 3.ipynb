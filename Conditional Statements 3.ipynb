{
  "nbformat": 4,
  "nbformat_minor": 0,
  "metadata": {
    "colab": {
      "provenance": [],
      "authorship_tag": "ABX9TyNnCh/VXTRBQltVogafg08z",
      "include_colab_link": true
    },
    "kernelspec": {
      "name": "python3",
      "display_name": "Python 3"
    },
    "language_info": {
      "name": "python"
    }
  },
  "cells": [
    {
      "cell_type": "markdown",
      "metadata": {
        "id": "view-in-github",
        "colab_type": "text"
      },
      "source": [
        "<a href=\"https://colab.research.google.com/github/JinxWycman/Short-codes/blob/main/Conditional%20Statements%203.ipynb\" target=\"_parent\"><img src=\"https://colab.research.google.com/assets/colab-badge.svg\" alt=\"Open In Colab\"/></a>"
      ]
    },
    {
      "cell_type": "code",
      "source": [
        "marterial= \"metal\"\n",
        "size= \"large\"\n",
        "\n",
        "if marterial== \"metal\" and size== \"large\":\n",
        "  print(\"special handling\")\n",
        "elif marterial==\"metal\" or \"glass\" and size== \"medium\":\n",
        "  print(\"standard recycling\")\n",
        "elif marterial== \"paper\" and size== \"small\":\n",
        "  print(\"composting\")\n",
        "else:\n",
        "  print(\"landfill\")\n"
      ],
      "metadata": {
        "colab": {
          "base_uri": "https://localhost:8080/"
        },
        "id": "xlsX5hP1WEJZ",
        "outputId": "b3ce6cec-245d-4eec-94ee-3bdcf1e2926e"
      },
      "execution_count": 31,
      "outputs": [
        {
          "output_type": "stream",
          "name": "stdout",
          "text": [
            "special handling\n"
          ]
        }
      ]
    },
    {
      "cell_type": "markdown",
      "source": [],
      "metadata": {
        "id": "NyfO-FIQRRC1"
      }
    }
  ]
}