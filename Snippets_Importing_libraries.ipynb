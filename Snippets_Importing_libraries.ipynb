{
  "cells": [
    {
      "cell_type": "markdown",
      "metadata": {
        "id": "view-in-github",
        "colab_type": "text"
      },
      "source": [
        "<a href=\"https://colab.research.google.com/github/JinxWycman/Short-codes/blob/main/Snippets_Importing_libraries.ipynb\" target=\"_parent\"><img src=\"https://colab.research.google.com/assets/colab-badge.svg\" alt=\"Open In Colab\"/></a>"
      ]
    },
    {
      "cell_type": "markdown",
      "metadata": {
        "id": "kDn_lVxg3Z2G"
      },
      "source": [
        "# Importing a library that is not in Colaboratory\n",
        "\n",
        "To import a library that's not in Colaboratory by default, you can use `!pip install` or `!apt-get install`."
      ]
    },
    {
      "cell_type": "code",
      "source": [
        "tree_tuple=(8, 'apple' ,'Granny smith')\n",
        "print (tree_tuple)\n",
        "len(tree_tuple)\n",
        "fruit=tree_tuple[1]\n",
        "print(\"fruit:\",fruit)\n",
        "text_only=tree_tuple[1:3]\n",
        "print(text_only)"
      ],
      "metadata": {
        "id": "-EjHhejcB8lG",
        "outputId": "dbffb3b2-7b73-45c2-cefa-6d7533109aab",
        "colab": {
          "base_uri": "https://localhost:8080/"
        }
      },
      "execution_count": 13,
      "outputs": [
        {
          "output_type": "stream",
          "name": "stdout",
          "text": [
            "(8, 'apple', 'Granny smith')\n",
            "fruit: apple\n",
            "('apple', 'Granny smith')\n"
          ]
        }
      ]
    },
    {
      "cell_type": "code",
      "source": [
        "fruit_summer=('peach','apricot','plum' )\n",
        "fruit_winter=('lemon', 'orange', 'grapefruit')\n",
        "print(fruit_summer, fruit_winter)\n",
        "all_fruits=(fruit_summer+fruit_winter)\n",
        "print(all_fruits)\n",
        "all_fruits.count('plum')\n",
        "combined_info=('yellow', 5, 'lemon')\n",
        "colour = combined_info[0]\n",
        "age=combined_info[1]\n",
        "tree_type=combined_info[-1]\n",
        "print(\"colour:\",colour)\n",
        "print(\"age:\", age)\n",
        "print(\"tree type:\", tree_type)"
      ],
      "metadata": {
        "id": "DzzXikluWOcn",
        "outputId": "0a98bb06-8fa1-433d-bbd0-485208bb64f2",
        "colab": {
          "base_uri": "https://localhost:8080/"
        }
      },
      "execution_count": 35,
      "outputs": [
        {
          "output_type": "stream",
          "name": "stdout",
          "text": [
            "('peach', 'apricot', 'plum') ('lemon', 'orange', 'grapefruit')\n",
            "('peach', 'apricot', 'plum', 'lemon', 'orange', 'grapefruit')\n",
            "colour: yellow\n",
            "age: 5\n",
            "tree type: lemon\n"
          ]
        }
      ]
    }
  ],
  "metadata": {
    "colab": {
      "name": "Snippets: Importing libraries",
      "provenance": [],
      "include_colab_link": true
    },
    "kernelspec": {
      "display_name": "Python 3",
      "name": "python3"
    }
  },
  "nbformat": 4,
  "nbformat_minor": 0
}