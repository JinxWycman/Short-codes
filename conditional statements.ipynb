{
  "nbformat": 4,
  "nbformat_minor": 0,
  "metadata": {
    "colab": {
      "provenance": [],
      "authorship_tag": "ABX9TyPp9Ao4oDrs0zTfjGjlzowg",
      "include_colab_link": true
    },
    "kernelspec": {
      "name": "python3",
      "display_name": "Python 3"
    },
    "language_info": {
      "name": "python"
    }
  },
  "cells": [
    {
      "cell_type": "markdown",
      "metadata": {
        "id": "view-in-github",
        "colab_type": "text"
      },
      "source": [
        "<a href=\"https://colab.research.google.com/github/JinxWycman/Short-codes/blob/main/conditional%20statements.ipynb\" target=\"_parent\"><img src=\"https://colab.research.google.com/assets/colab-badge.svg\" alt=\"Open In Colab\"/></a>"
      ]
    },
    {
      "cell_type": "markdown",
      "source": [],
      "metadata": {
        "id": "NyfO-FIQRRC1"
      }
    },
    {
      "cell_type": "code",
      "source": [
        "individual_in_wild = 5500\n",
        "\n",
        "if individual_in_wild < 1000:\n",
        "  print(\"critically endangered\")\n",
        "elif individual_in_wild <= 5000:\n",
        "  print(\"endangered\")\n",
        "elif individual_in_wild <= 20000:\n",
        "  print(\"vulnerable\")\n",
        "else :\n",
        "  print(\"safe\")"
      ],
      "metadata": {
        "id": "E-ViYF4Q9--0",
        "colab": {
          "base_uri": "https://localhost:8080/"
        },
        "outputId": "3d252db4-6de0-4aa6-f4e5-f8007335dc11"
      },
      "execution_count": 15,
      "outputs": [
        {
          "output_type": "stream",
          "name": "stdout",
          "text": [
            "vulnerable\n"
          ]
        }
      ]
    },
    {
      "cell_type": "code",
      "source": [
        "rainfall= 205\n",
        "#average annual rainfall in mm\n",
        "population_density= 448\n",
        "#people per square km\n",
        "if rainfall< 500 and population_density> 500:\n",
        "  print(\"severe scarcity\")\n",
        "elif rainfall <= 1000 and population_density<= 500:\n",
        "  print(\"moderate scarcity\")\n",
        "else:\n",
        "  print(\"no scarcity\")"
      ],
      "metadata": {
        "colab": {
          "base_uri": "https://localhost:8080/"
        },
        "id": "56E6NitzTPWx",
        "outputId": "bb79d172-933c-4e9a-e44f-0ae647a19092"
      },
      "execution_count": 22,
      "outputs": [
        {
          "output_type": "stream",
          "name": "stdout",
          "text": [
            "moderate scarcity\n"
          ]
        }
      ]
    }
  ]
}