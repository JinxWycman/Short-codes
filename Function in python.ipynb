{
  "nbformat": 4,
  "nbformat_minor": 0,
  "metadata": {
    "colab": {
      "provenance": [],
      "authorship_tag": "ABX9TyPFbZMW7P4CGulgGng4NGeF",
      "include_colab_link": true
    },
    "kernelspec": {
      "name": "python3",
      "display_name": "Python 3"
    },
    "language_info": {
      "name": "python"
    }
  },
  "cells": [
    {
      "cell_type": "markdown",
      "metadata": {
        "id": "view-in-github",
        "colab_type": "text"
      },
      "source": [
        "<a href=\"https://colab.research.google.com/github/JinxWycman/Short-codes/blob/main/Function%20in%20python.ipynb\" target=\"_parent\"><img src=\"https://colab.research.google.com/assets/colab-badge.svg\" alt=\"Open In Colab\"/></a>"
      ]
    },
    {
      "cell_type": "code",
      "source": [
        "#EXERCISE 1\n",
        "def deforested_land() :\n",
        "  return [10, 15, 8, 12, 20]\n",
        "carbon_emission_factor = 40\n",
        "Total_deforested_land = sum (deforested_land())\n",
        "total_carbon_emission= Total_deforested_land * carbon_emission_factor\n"
      ],
      "metadata": {
        "id": "uv_085NDPdvI"
      },
      "execution_count": 58,
      "outputs": []
    },
    {
      "cell_type": "code",
      "source": [
        "print(\"total deforested land=\", Total_deforested_land)\n",
        "print(\"total carbon emission=\", total_carbon_emission)"
      ],
      "metadata": {
        "colab": {
          "base_uri": "https://localhost:8080/"
        },
        "id": "Tdlc0vffZr70",
        "outputId": "2ccf12d6-82ce-4f7f-a962-e1ecab99a51d"
      },
      "execution_count": 59,
      "outputs": [
        {
          "output_type": "stream",
          "name": "stdout",
          "text": [
            "total deforested land= 65\n",
            "total carbon emission= 2600\n"
          ]
        }
      ]
    },
    {
      "cell_type": "code",
      "source": [],
      "metadata": {
        "id": "U6pUk0aGZ7i3"
      },
      "execution_count": null,
      "outputs": []
    },
    {
      "cell_type": "code",
      "source": [
        "#EXERCISE 2\n",
        "def acres_to_hectares (acres):\n",
        "  hectares = acres  * 0.404686\n",
        "  return hectares\n",
        "  print(acres_to_hectares(50))"
      ],
      "metadata": {
        "id": "xLwAkhvSV98T"
      },
      "execution_count": 55,
      "outputs": []
    },
    {
      "cell_type": "code",
      "source": [
        " print(acres_to_hectares(50))"
      ],
      "metadata": {
        "colab": {
          "base_uri": "https://localhost:8080/"
        },
        "id": "lHXC9aIQZCHU",
        "outputId": "d426305b-cc85-40f2-ab07-29fd70d5e22f"
      },
      "execution_count": 57,
      "outputs": [
        {
          "output_type": "stream",
          "name": "stdout",
          "text": [
            "20.2343\n"
          ]
        }
      ]
    },
    {
      "cell_type": "code",
      "source": [
        "#EXAMPLE 3\n",
        "deforested_land = [10, 15, 8, 12, 20]\n",
        "\n",
        "average_deforested_land= sum(deforested_land) / len(deforested_land)\n"
      ],
      "metadata": {
        "id": "dsUaDkbSZXX1"
      },
      "execution_count": 69,
      "outputs": []
    },
    {
      "cell_type": "code",
      "source": [
        "print(average_deforested_land)"
      ],
      "metadata": {
        "colab": {
          "base_uri": "https://localhost:8080/"
        },
        "id": "J-EMq5QFbRZF",
        "outputId": "12dbe2b1-a8a3-4d1b-f4b8-c1e30303be20"
      },
      "execution_count": 68,
      "outputs": [
        {
          "output_type": "stream",
          "name": "stdout",
          "text": [
            "13.0\n"
          ]
        }
      ]
    }
  ]
}